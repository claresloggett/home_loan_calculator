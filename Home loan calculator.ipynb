{
 "cells": [
  {
   "cell_type": "markdown",
   "metadata": {},
   "source": [
    "# Home loan repayments "
   ]
  },
  {
   "cell_type": "markdown",
   "metadata": {},
   "source": [
    "This is a notebook I made when we were shopping for houses. I wanted to know how long it would take to repay a given loan if we could afford to repay some fixed amount \\$R. \n",
    "\n",
    "A nice result was that to a good approximation, the behaviour of a loan over time is completely specified by the \"affordability factor\" $\\frac{L_0 I}{R}$. This is how much you interest you need to pay each month on the original loan, divided by how much you can actually afford to pay each month (so, the smaller the better - `1` means you can only pay the interest).\n",
    "\n",
    "These calculations only describe the total cost of the loan and/or the time it takes to pay off if income and interest rates are stable. They say nothing about other factors like property value appreciation, risk etc."
   ]
  },
  {
   "cell_type": "code",
   "execution_count": 11,
   "metadata": {
    "ExecuteTime": {
     "end_time": "2017-08-22T10:23:54.608952Z",
     "start_time": "2017-08-22T10:23:54.545138Z"
    }
   },
   "outputs": [],
   "source": [
    "%matplotlib inline\n",
    "import matplotlib.pyplot as plt\n",
    "import math\n",
    "import numpy as np"
   ]
  },
  {
   "cell_type": "markdown",
   "metadata": {},
   "source": [
    "## Calculations"
   ]
  },
  {
   "cell_type": "markdown",
   "metadata": {},
   "source": [
    "$L_t$ : size of remaining loan at given time\n",
    "\n",
    "$L_0$ : size of initial loan; i.e. total loan size minus deposit. We are not interested in the deposit size.\n",
    "\n",
    "$R$ : size of repayment per time period. We assume this is constant; i.e. you are paying off the loan as fast as you can afford to.\n",
    "\n",
    "$I$ : interest rate (per time period) as a fraction (e.g. 0.05 for 5%).\n",
    "\n",
    "$I_f$ : interest factor; just $I+1$\n",
    "\n",
    "$T$ : time taken to pay off the loan in units of the time period\n",
    "\n",
    "$C$ : total cost of the loan. Since R is constant this will be determined by the time it takes to pay off the loan; $C = RT$"
   ]
  },
  {
   "cell_type": "markdown",
   "metadata": {},
   "source": [
    "We are assuming that interest is applied once per time period, and that one repayment is made per time period. This will usually be monthly. If we use annual interest & repayment values and the bank calculates monthly, we will be a bit off."
   ]
  },
  {
   "cell_type": "markdown",
   "metadata": {},
   "source": [
    "#### Loan as a function of time"
   ]
  },
  {
   "cell_type": "markdown",
   "metadata": {},
   "source": [
    "Each time period, apply the interest rate and subtract the repayment:\n",
    "\n",
    "$$I_f = I + 1$$\n",
    "\n",
    "$$L_{t+1} = L_t I_f - R$$"
   ]
  },
  {
   "cell_type": "markdown",
   "metadata": {},
   "source": [
    "So e.g. the first few time periods:\n",
    "\n",
    "$$L_1 = L_0 I_f - R$$\n",
    "\n",
    "$$L_2 = L_1 I_f - R = \\left(L_0 I_f - R\\right) I_f - R = L_0 I_f^2 - R\\left(I_f + 1\\right)$$\n",
    "\n",
    "$$L_3 = L_2 I_f - R = \\left(L_1 I_f - R\\right) I_f - R = \\left(\\left(L_0 I_f - R\\right) I_f - R\\right) I_f - R = L_0 I_f^3 - R\\left(I_f^2 + I_f + 1\\right)$$"
   ]
  },
  {
   "cell_type": "markdown",
   "metadata": {},
   "source": [
    "So the loan remaining at the $t$'th time period is\n",
    "\n",
    "$$L_t = L_0 I_f^t - R \\sum\\limits_{n=0}^{t-1}{I_f^n}$$"
   ]
  },
  {
   "cell_type": "markdown",
   "metadata": {},
   "source": [
    "Using the sum of the geometric series:\n",
    "\n",
    "$$L_t = L_0 I_f^t - R \\left( \\frac{1-I_f^t}{1-I_f} \\right)$$\n",
    "\n",
    "Note that $1-I_f$ is $-I$."
   ]
  },
  {
   "cell_type": "markdown",
   "metadata": {},
   "source": [
    "#### Time to pay off loan; total cost of loan"
   ]
  },
  {
   "cell_type": "markdown",
   "metadata": {},
   "source": [
    "The total time taken to pay off the loan is given by $T$ such that $L_T = 0$. Gather the $I_f^T$ terms and take the log.\n",
    "\n",
    "$$L_T = 0 = L_0 I_f^T - R \\left( \\frac{1 - I_f^T}{1-I_f} \\right)$$\n",
    "\n",
    "$$L_0 I_f^T = R \\left( \\frac{1 - I_f^T}{1-I_f} \\right)$$\n",
    "\n",
    "$$\\frac{L_0}{R} \\left( 1 - I_f \\right) = \\frac{1 - I_f^T}{I_f^T} = I_f^{-T} - 1$$\n",
    "\n",
    "$$\\frac{L_0}{R} \\left( 1 - I_f \\right) + 1 = I_f^{-T}$$\n",
    "\n",
    "or\n",
    "\n",
    "$$1 - \\frac{L_0 I}{R} = I_f^{-T}$$\n",
    "\n",
    "Note that $\\frac{L_0 I}{R}$ is just the ratio between the interest added to the loan in the first time period, and the repayment subtracted. To pay off the loan at all this term must be less than 1."
   ]
  },
  {
   "cell_type": "markdown",
   "metadata": {},
   "source": [
    "It will turn out that the loan can be quite accurately described solely in terms of this \"affordability factor\": \n",
    "$$F = \\frac{L_0 I}{R}$$"
   ]
  },
  {
   "cell_type": "markdown",
   "metadata": {},
   "source": [
    "Take the log:\n",
    "\n",
    "$$-T \\ln I_f = \\ln \\left( 1 - \\frac{L_0 I}{R}\\right) = \\ln (R - L_0 I) - \\ln R$$\n",
    "\n",
    "$$T = \\frac{\\ln R - \\ln (R - L_0 I)}{\\ln (I+1)}$$ or $$T = - \\frac{\\ln (1 - L_0 I / R)}{\\ln (I + 1)}$$"
   ]
  },
  {
   "cell_type": "markdown",
   "metadata": {},
   "source": [
    "This is the time taken to pay off the loan. Since we are assuming we pay off a maximum constant R each time period, the total cost of the loan is just $R T$:\n",
    "\n",
    "$$C = R T = - R \\frac{\\ln R - \\ln (R - L_0 I)}{\\ln (I+1)}$$"
   ]
  },
  {
   "cell_type": "markdown",
   "metadata": {},
   "source": [
    "#### Approximate expression depending only on the affordability factor"
   ]
  },
  {
   "cell_type": "markdown",
   "metadata": {},
   "source": [
    "Since $I$ is (hopefully) small compared to 1, it's not too bad to say $ln(I+1) \\approx I$ (where the next term is $-I^2/2$, giving maybe a 0.5% error if $I=0.1$).\n",
    "\n",
    "$L_0 I / R$ will not be small compared to 1 unless we are paying off the loan extremely easily. It is more likely to be close to 1. It's still interesting to look at the expansion in order to divide by $I$. Note here we are expanding $ln(1+x)$ where $x = -L_0 I / R$, making all terms negative:\n",
    "\n",
    "$$T \\approx -\\left( -\\frac{L_0 I}{R} - \\frac{1}{2}\\left(\\frac{L_0 I}{R}\\right)^2 - \\frac{1}{3}\\left(\\frac{L_0 I}{R}\\right)^3 \\cdots \\right) / I = \\frac{L_0}{R} + \\frac{1}{2}\\left(\\frac{L_0}{R}\\right)^2 I + \\frac{1}{3}\\left(\\frac{L_0}{R}\\right)^3 I^2 \\cdots$$\n",
    "\n",
    "or \n",
    "\n",
    "$$T \\approx \\frac{L_0}{R} \\left( 1 + \\frac{1}{2}\\frac{L_0 I}{R} + \\frac{1}{3}\\left(\\frac{L_0 I}{R}\\right)^2 \\cdots \\right)$$\n",
    "\n",
    "So as expected, without interest the time is just $L_0/R$. With interest it takes longer, with a series in terms of the affordability factor $L_0 I / R$. If you can afford to pay off twice as much each month than the minimum, the loan will take very roughly 25% longer to pay off than if there were no interest. This approximation breaks down if the interest rate is very high, but when it's 10% we're only off by ~0.5%; when it's 20% we're off by ~2%. So the important factor really is $L_0 I / R$."
   ]
  },
  {
   "cell_type": "markdown",
   "metadata": {},
   "source": [
    "The total cost of the loan $C$ is just the number of time periods multiplied by the repayment amount:\n",
    "\n",
    "$$C = T R = R \\frac{\\ln R - \\ln (R - L_0 I)}{\\ln 1 + I} $$\n",
    "\n",
    "or as an approximate expansion\n",
    "\n",
    "$$C \\approx L_0 \\left( 1 + \\frac{1}{2}\\frac{L_0 I}{R} + \\frac{1}{3}\\left(\\frac{L_0 I}{R}\\right)^2 \\cdots \\right)$$\n",
    "\n",
    "Again the base cost is the loan itself, with a series in terms of the affordability factor $L_0 I / R$. If you can afford to pay off twice as much each month than the minimum, the loan will cost very roughly 25% more to pay off than the loan $L_0$. \n",
    "\n",
    "At the other extreme, if you can only afford to pay the interest ( $L_0 I / R \\ge 1$ ) then this series doesn't converge; the cost is infinite as you will never pay off the loan itself."
   ]
  },
  {
   "cell_type": "markdown",
   "metadata": {},
   "source": [
    "#### More precise approximation using only affordability factor"
   ]
  },
  {
   "cell_type": "markdown",
   "metadata": {},
   "source": [
    "When $L_0 I / R$ is close to 1, these series converge very slowly and taking a few terms is not accurate. We can use the series limit and only make the less extreme $ln(1+I) = I$ approximation. \n",
    "\n",
    "$$C = -R \\frac{ln(1 - L_0 I / R)}{ln(I+1)} \\approx -\\frac{R}{I} ln(1 - \\frac{L_0 I}{R})$$\n",
    "\n",
    "$$C \\approx - L_0 \\frac{R}{L_0 I} ln(1 - \\frac{L_0 I}{R}) = -L_0 \\frac{ln(1-F)}{F}$$\n",
    "\n",
    "if we call our affordability factor $F$.\n",
    "\n",
    "Similarly\n",
    "\n",
    "$$T \\approx - \\frac{L_0}{R} \\frac{R}{L_0 I} ln(1 - \\frac{L_0 I}{R}) = -\\frac{L_0}{R} \\frac{ln(1-F)}{F}$$"
   ]
  },
  {
   "cell_type": "markdown",
   "metadata": {},
   "source": [
    "#### Series expansion convergence examples"
   ]
  },
  {
   "cell_type": "markdown",
   "metadata": {},
   "source": [
    "Convergence examples: if I can afford to pay just 10% more than the minimum, i.e. $L_0 I / R = 1/1.1 \\approx 0.9$, then what is the time/cost increase?\n",
    "\n",
    "$$C \\approx L_0 \\left( 1 + \\frac{1}{2} 0.9 + \\frac{1}{3} 0.9^2 + \\frac{1}{4} 0.9^3 + \\cdots \\right)$$"
   ]
  },
  {
   "cell_type": "code",
   "execution_count": 2,
   "metadata": {
    "ExecuteTime": {
     "end_time": "2017-08-22T10:22:24.165962Z",
     "start_time": "2017-08-22T10:22:23.992073Z"
    }
   },
   "outputs": [
    {
     "data": {
      "text/plain": [
       "[1.0, 0.45, 0.27, 0.18225000000000002, 0.13122, 0.09841500000000002]"
      ]
     },
     "execution_count": 2,
     "metadata": {},
     "output_type": "execute_result"
    }
   ],
   "source": [
    "[0.9**n/(n+1) for n in [0,1,2,3,4,5]]"
   ]
  },
  {
   "cell_type": "code",
   "execution_count": 3,
   "metadata": {
    "ExecuteTime": {
     "end_time": "2017-08-22T10:22:27.305764Z",
     "start_time": "2017-08-22T10:22:27.297886Z"
    }
   },
   "outputs": [
    {
     "data": {
      "text/plain": [
       "1.90225"
      ]
     },
     "execution_count": 3,
     "metadata": {},
     "output_type": "execute_result"
    }
   ],
   "source": [
    "sum([0.9**n/(n+1) for n in [0,1,2,3]])"
   ]
  },
  {
   "cell_type": "markdown",
   "metadata": {},
   "source": [
    "i.e. $C \\approx 1.902 L_0$\n",
    "\n",
    "Compare to series limit:\n",
    "\n",
    "$$C \\approx -L_0 \\frac{ln(1-F)}{F}$$"
   ]
  },
  {
   "cell_type": "code",
   "execution_count": 4,
   "metadata": {
    "ExecuteTime": {
     "end_time": "2017-08-22T10:22:28.180699Z",
     "start_time": "2017-08-22T10:22:28.166012Z"
    }
   },
   "outputs": [
    {
     "data": {
      "text/plain": [
       "2.5584278811044956"
      ]
     },
     "execution_count": 4,
     "metadata": {},
     "output_type": "execute_result"
    }
   ],
   "source": [
    "-math.log(1-0.9)/0.9"
   ]
  },
  {
   "cell_type": "markdown",
   "metadata": {},
   "source": [
    "Not very good!  But only being able to repay 10% above the interest is extreme; if the interest rate rises by an absolute 1% you probably can't pay your loan any more."
   ]
  },
  {
   "cell_type": "markdown",
   "metadata": {},
   "source": [
    "If I can pay twice as much as I need to: $L_0 I / R = 0.5$:\n",
    "    \n",
    "$$C \\approx \\left( 1 + \\frac{1}{2} 0.5 + \\frac{1}{3} 0.5^2 + \\frac{1}{4} 0.5^3 + \\cdots \\right)$$"
   ]
  },
  {
   "cell_type": "code",
   "execution_count": 6,
   "metadata": {
    "ExecuteTime": {
     "end_time": "2017-08-22T10:22:57.789263Z",
     "start_time": "2017-08-22T10:22:57.765101Z"
    }
   },
   "outputs": [
    {
     "data": {
      "text/plain": [
       "[1.0, 0.25, 0.08333333333333333, 0.03125, 0.0125, 0.005208333333333333]"
      ]
     },
     "execution_count": 6,
     "metadata": {},
     "output_type": "execute_result"
    }
   ],
   "source": [
    "[0.5**n/(n+1) for n in [0,1,2,3,4,5]]"
   ]
  },
  {
   "cell_type": "code",
   "execution_count": 7,
   "metadata": {
    "ExecuteTime": {
     "end_time": "2017-08-22T10:22:58.486608Z",
     "start_time": "2017-08-22T10:22:58.478419Z"
    }
   },
   "outputs": [
    {
     "data": {
      "text/plain": [
       "1.3645833333333333"
      ]
     },
     "execution_count": 7,
     "metadata": {},
     "output_type": "execute_result"
    }
   ],
   "source": [
    "sum([0.5**n/(n+1) for n in [0,1,2,3]])"
   ]
  },
  {
   "cell_type": "markdown",
   "metadata": {},
   "source": [
    "Compare to exact value:"
   ]
  },
  {
   "cell_type": "code",
   "execution_count": 8,
   "metadata": {
    "ExecuteTime": {
     "end_time": "2017-08-22T10:23:00.168873Z",
     "start_time": "2017-08-22T10:23:00.160765Z"
    }
   },
   "outputs": [
    {
     "data": {
      "text/plain": [
       "1.3862943611198906"
      ]
     },
     "execution_count": 8,
     "metadata": {},
     "output_type": "execute_result"
    }
   ],
   "source": [
    "- math.log(0.5)/0.5"
   ]
  },
  {
   "cell_type": "markdown",
   "metadata": {},
   "source": [
    "Not too bad."
   ]
  },
  {
   "cell_type": "markdown",
   "metadata": {},
   "source": [
    "#### Plot loan behaviour vs affordability factor"
   ]
  },
  {
   "cell_type": "markdown",
   "metadata": {},
   "source": [
    "Using the $ln(1+I)=I$ approximation, we can plot the inefficiency of the loan in terms of only the affordability factor $L_0 I/R$. Here the y axis shows the percentage increase in both the total loan cost and the total time over the base cost and time if there were no interest."
   ]
  },
  {
   "cell_type": "code",
   "execution_count": 15,
   "metadata": {
    "ExecuteTime": {
     "end_time": "2017-08-22T10:24:49.305051Z",
     "start_time": "2017-08-22T10:24:48.304816Z"
    }
   },
   "outputs": [
    {
     "data": {
      "text/plain": [
       "<matplotlib.text.Text at 0x10ad5b748>"
      ]
     },
     "execution_count": 15,
     "metadata": {},
     "output_type": "execute_result"
    },
    {
     "data": {
      "image/png": "[encoded data removed]",
      "text/plain": [
       "<matplotlib.figure.Figure at 0x10a957f98>"
      ]
     },
     "metadata": {},
     "output_type": "display_data"
    }
   ],
   "source": [
    "xvals = np.linspace(0.01,0.99,num=100)\n",
    "yvals = -np.log(1-xvals)/xvals\n",
    "plt.figure(figsize=(12,8))\n",
    "plt.plot(xvals, yvals)\n",
    "plt.xlabel('$L_0 I / R$')\n",
    "plt.ylabel('Time and cost increase factor')"
   ]
  },
  {
   "cell_type": "markdown",
   "metadata": {},
   "source": [
    "In terms of $R / L_0 I$, ie how much more can you afford to repay than the minimum:"
   ]
  },
  {
   "cell_type": "code",
   "execution_count": 16,
   "metadata": {
    "ExecuteTime": {
     "end_time": "2017-08-22T10:26:45.582264Z",
     "start_time": "2017-08-22T10:26:44.719645Z"
    }
   },
   "outputs": [
    {
     "data": {
      "text/plain": [
       "<matplotlib.text.Text at 0x10aff5908>"
      ]
     },
     "execution_count": 16,
     "metadata": {},
     "output_type": "execute_result"
    },
    {
     "data": {
      "image/png": "[encoded data removed]",
      "text/plain": [
       "<matplotlib.figure.Figure at 0x10b043198>"
      ]
     },
     "metadata": {},
     "output_type": "display_data"
    }
   ],
   "source": [
    "xvals = np.linspace(1.01,5,num=100)\n",
    "yvals = -np.log(1-(1/xvals))*xvals\n",
    "plt.figure(figsize=(12,8))\n",
    "plt.plot(xvals, yvals)\n",
    "plt.xlabel('$R / L_0 I$')\n",
    "plt.ylabel('Time and cost increase factor')"
   ]
  },
  {
   "cell_type": "markdown",
   "metadata": {},
   "source": [
    "Some sample factors:"
   ]
  },
  {
   "cell_type": "code",
   "execution_count": 19,
   "metadata": {
    "ExecuteTime": {
     "end_time": "2017-08-22T10:27:31.805006Z",
     "start_time": "2017-08-22T10:27:31.795312Z"
    }
   },
   "outputs": [
    {
     "name": "stdout",
     "output_type": "stream",
     "text": [
      "(1.1000000000000001, 2.6376848000782074)\n",
      "(1.5, 1.6479184330021643)\n",
      "(2.0, 1.3862943611198906)\n",
      "(2.5, 1.2770640594149767)\n",
      "(3.0, 1.2163953243244929)\n"
     ]
    }
   ],
   "source": [
    "xvals = np.array([1.1, 1.5, 2, 2.5, 3])\n",
    "yvals = -np.log(1-(1/xvals))*xvals\n",
    "print(\"\\n\".join(str(v) for v in zip(xvals, yvals)))"
   ]
  },
  {
   "cell_type": "markdown",
   "metadata": {},
   "source": [
    "## Calculator: plug in values"
   ]
  },
  {
   "cell_type": "code",
   "execution_count": 20,
   "metadata": {
    "ExecuteTime": {
     "end_time": "2017-08-22T10:27:53.444370Z",
     "start_time": "2017-08-22T10:27:53.440394Z"
    }
   },
   "outputs": [],
   "source": [
    "# Enter an annual interest rate and a monthly amount to pay off\n",
    "I_annual = 0.0475\n",
    "R = 5000"
   ]
  },
  {
   "cell_type": "code",
   "execution_count": 24,
   "metadata": {
    "ExecuteTime": {
     "end_time": "2017-08-22T10:28:29.094953Z",
     "start_time": "2017-08-22T10:28:29.077683Z"
    }
   },
   "outputs": [
    {
     "name": "stdout",
     "output_type": "stream",
     "text": [
      "Monthly interest rate 0.003958333333333334\n",
      "7.916666666666668e-07\n"
     ]
    }
   ],
   "source": [
    "I = I_annual/12.0\n",
    "print('Monthly interest rate',I)\n",
    "#Now F = L_0 * I / R, so for a given L_0 the factor is I/R\n",
    "print(I/R)"
   ]
  },
  {
   "cell_type": "code",
   "execution_count": 25,
   "metadata": {
    "ExecuteTime": {
     "end_time": "2017-08-22T10:28:56.693988Z",
     "start_time": "2017-08-22T10:28:56.647613Z"
    }
   },
   "outputs": [
    {
     "name": "stdout",
     "output_type": "stream",
     "text": [
      "Max loan 1263157.894736842\n"
     ]
    }
   ],
   "source": [
    "# Max allowed L_0 at F==1, so L_0 = R/I\n",
    "# This is max in that we can just pay the interest. A bank probably wouldn't allow it...\n",
    "maxL = R/I\n",
    "print(\"Max loan\",maxL)"
   ]
  },
  {
   "cell_type": "code",
   "execution_count": 26,
   "metadata": {
    "ExecuteTime": {
     "end_time": "2017-08-22T10:29:10.408997Z",
     "start_time": "2017-08-22T10:29:10.401569Z"
    }
   },
   "outputs": [],
   "source": [
    "def cost_factor(inefficiency):\n",
    "    return -np.log(1-inefficiency)/inefficiency"
   ]
  },
  {
   "cell_type": "code",
   "execution_count": 29,
   "metadata": {
    "ExecuteTime": {
     "end_time": "2017-08-22T10:30:11.682551Z",
     "start_time": "2017-08-22T10:30:11.110740Z"
    }
   },
   "outputs": [
    {
     "data": {
      "text/plain": [
       "<matplotlib.text.Text at 0x10b47f1d0>"
      ]
     },
     "execution_count": 29,
     "metadata": {},
     "output_type": "execute_result"
    },
    {
     "data": {
      "image/png": "[encoded data removed]",
      "text/plain": [
       "<matplotlib.figure.Figure at 0x10a86e080>"
      ]
     },
     "metadata": {},
     "output_type": "display_data"
    }
   ],
   "source": [
    "loan_values = np.linspace(0.01,maxL-1,num=100)\n",
    "yvals = cost_factor(loan_values*I/R)\n",
    "plt.figure(figsize=(12,8))\n",
    "plt.plot(loan_values, yvals)\n",
    "plt.xlabel('$L_0$')\n",
    "plt.ylabel('Time and cost increase factor')\n",
    "plt.title('Inefficiency factor for annual interest {0}%, monthly repayment ${1}'.format(I_annual*100,R))"
   ]
  },
  {
   "cell_type": "markdown",
   "metadata": {},
   "source": [
    "Base repayment time for various loan sizes (i.e. if there were no interest) and repayment time at given interest rate."
   ]
  },
  {
   "cell_type": "code",
   "execution_count": 31,
   "metadata": {
    "ExecuteTime": {
     "end_time": "2017-08-22T10:31:24.661651Z",
     "start_time": "2017-08-22T10:31:23.939693Z"
    }
   },
   "outputs": [
    {
     "data": {
      "text/plain": [
       "<matplotlib.legend.Legend at 0x10b9cebe0>"
      ]
     },
     "execution_count": 31,
     "metadata": {},
     "output_type": "execute_result"
    },
    {
     "data": {
      "image/png": "[encoded data removed]",
      "text/plain": [
       "<matplotlib.figure.Figure at 0x10a99d860>"
      ]
     },
     "metadata": {},
     "output_type": "display_data"
    }
   ],
   "source": [
    "loan_values = np.linspace(0.01,maxL-1,num=100)\n",
    "basevals = (loan_values/R)/12\n",
    "yvals = (loan_values/R)/12*cost_factor(loan_values*I/R)\n",
    "plt.figure(figsize=(12,8))\n",
    "plt.plot(loan_values, yvals)\n",
    "plt.plot(loan_values, basevals)\n",
    "plt.xlabel('$L_0$')\n",
    "plt.ylabel('Time in years')\n",
    "plt.ylim((0,30))\n",
    "plt.title('Repayment time for annual interest {0}%, monthly repayment ${1}'.format(I_annual*100,R))\n",
    "plt.legend([\"Actual repayment time due to interest\",\"Base repayment time $L_0/R$\"])"
   ]
  },
  {
   "cell_type": "markdown",
   "metadata": {},
   "source": [
    "As above, but use the exact formula, not the $(ln(1+I)=I$ approximation. i.e.\n",
    "$$T = -\\frac{\\ln (1 - L_0 I / R)}{\\ln (I + 1)}$$"
   ]
  },
  {
   "cell_type": "code",
   "execution_count": 32,
   "metadata": {
    "ExecuteTime": {
     "end_time": "2017-08-22T10:31:34.076843Z",
     "start_time": "2017-08-22T10:31:34.069580Z"
    }
   },
   "outputs": [],
   "source": [
    "def exact_repayment_time(L0,I,R):\n",
    "    return -np.log(1-(L0*I/R))/math.log(I+1)"
   ]
  },
  {
   "cell_type": "code",
   "execution_count": 33,
   "metadata": {
    "ExecuteTime": {
     "end_time": "2017-08-22T10:32:22.228841Z",
     "start_time": "2017-08-22T10:32:21.392122Z"
    }
   },
   "outputs": [
    {
     "data": {
      "text/plain": [
       "<matplotlib.legend.Legend at 0x10bbfca90>"
      ]
     },
     "execution_count": 33,
     "metadata": {},
     "output_type": "execute_result"
    },
    {
     "data": {
      "image/png": "[encoded data removed]",
      "text/plain": [
       "<matplotlib.figure.Figure at 0x10b988198>"
      ]
     },
     "metadata": {},
     "output_type": "display_data"
    }
   ],
   "source": [
    "loan_values = np.linspace(0.01,maxL-1,num=100)\n",
    "basevals = (loan_values/R)/12\n",
    "yvals = exact_repayment_time(loan_values,I,R)/12\n",
    "plt.figure(figsize=(12,8))\n",
    "plt.plot(loan_values, yvals)\n",
    "plt.plot(loan_values, basevals)\n",
    "plt.xlabel('$L_0$')\n",
    "plt.ylabel('Time in years')\n",
    "plt.ylim((0,30))\n",
    "plt.title('Repayment time for annual interest {0}%, monthly repayment ${1}'.format(I_annual*100,R))\n",
    "plt.legend([\"Actual repayment time due to interest\",\"Base repayment time $L_0/R$\"])"
   ]
  }
 ],
 "metadata": {
  "anaconda-cloud": {},
  "kernelspec": {
   "display_name": "Python [default]",
   "language": "python",
   "name": "python3"
  },
  "language_info": {
   "codemirror_mode": {
    "name": "ipython",
    "version": 3
   },
   "file_extension": ".py",
   "mimetype": "text/x-python",
   "name": "python",
   "nbconvert_exporter": "python",
   "pygments_lexer": "ipython3",
   "version": "3.6.1"
  },
  "toc": {
   "colors": {
    "hover_highlight": "#DAA520",
    "running_highlight": "#FF0000",
    "selected_highlight": "#FFD700"
   },
   "moveMenuLeft": true,
   "nav_menu": {
    "height": "174px",
    "width": "252px"
   },
   "navigate_menu": true,
   "number_sections": true,
   "sideBar": true,
   "threshold": 4,
   "toc_cell": false,
   "toc_section_display": "block",
   "toc_window_display": true
  },
  "varInspector": {
   "cols": {
    "lenName": 16,
    "lenType": 16,
    "lenVar": 40
   },
   "kernels_config": {
    "python": {
     "delete_cmd_postfix": "",
     "delete_cmd_prefix": "del ",
     "library": "var_list.py",
     "varRefreshCmd": "print(var_dic_list())"
    },
    "r": {
     "delete_cmd_postfix": ") ",
     "delete_cmd_prefix": "rm(",
     "library": "var_list.r",
     "varRefreshCmd": "cat(var_dic_list()) "
    }
   },
   "types_to_exclude": [
    "module",
    "function",
    "builtin_function_or_method",
    "instance",
    "_Feature"
   ],
   "window_display": false
  }
 },
 "nbformat": 4,
 "nbformat_minor": 1
}
